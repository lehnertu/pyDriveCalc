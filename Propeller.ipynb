{
 "cells": [
  {
   "cell_type": "code",
   "execution_count": 1,
   "metadata": {},
   "outputs": [],
   "source": [
    "from DriveCalc import *\n",
    "\n",
    "import numpy as np\n",
    "import matplotlib.pyplot as plt"
   ]
  },
  {
   "cell_type": "code",
   "execution_count": 2,
   "metadata": {},
   "outputs": [],
   "source": [
    "prop_table = get_prop_database()"
   ]
  },
  {
   "cell_type": "markdown",
   "metadata": {},
   "source": [
    "### now we have the complete database in pandas"
   ]
  },
  {
   "cell_type": "code",
   "execution_count": 3,
   "metadata": {},
   "outputs": [
    {
     "name": "stdout",
     "output_type": "stream",
     "text": [
      "myid\n",
      "tbs\n",
      "Name\n",
      "Dia\n",
      "Pitch\n",
      "a\n",
      "b\n",
      "AltThr\n",
      "TmpThr\n",
      "srcThr\n",
      "c\n",
      "d\n",
      "AltPwr\n",
      "TmpPwr\n",
      "srcPwr\n",
      "n10N\n",
      "n100W\n",
      "Folder\n",
      "Hub\n",
      "MaxRPM\n",
      "match\n",
      "Rely\n",
      "ts\n"
     ]
    }
   ],
   "source": [
    "for col in prop_table.columns:\n",
    "            print(col)"
   ]
  },
  {
   "cell_type": "code",
   "execution_count": 4,
   "metadata": {},
   "outputs": [],
   "source": [
    "selection = prop_table[prop_table['Dia'] == 13.0]\n",
    "selection = selection[selection['Pitch'] < 5.0]"
   ]
  },
  {
   "cell_type": "code",
   "execution_count": 5,
   "metadata": {},
   "outputs": [
    {
     "name": "stdout",
     "output_type": "stream",
     "text": [
      "     myid  tbs       Name   Dia  Pitch         a         b  AltThr  TmpThr  \\\n",
      "126   128    4      APC E  13.0    4.0  17.26154  2.264648       0    15.0   \n",
      "437   446    4  APC E Dat  13.0    4.0  21.61529  2.015050      20    22.0   \n",
      "539   548    4     HiProp  13.0    4.4  26.42576  2.005561     100    17.0   \n",
      "\n",
      "                                                srcThr  ...  TmpPwr  \\\n",
      "126                                       DC generated  ...    18.0   \n",
      "437  APC data from http://www.apcprop.com/v/downloa...  ...    22.0   \n",
      "539                                       DC generated  ...    17.0   \n",
      "\n",
      "                                                srcPwr    n10N   n100W Folder  \\\n",
      "126                                       DC generated  6056.1  6201.8      0   \n",
      "437  APC data from http://www.apcprop.com/v/downloa...  6770.3  5574.8      0   \n",
      "539                                       DC generated  6180.5  5750.4      0   \n",
      "\n",
      "     Hub  MaxRPM  match  Rely                   ts  \n",
      "126  0.0   14615      0     3  2010-03-09 20:07:44  \n",
      "437  0.0   11000      0     3  2013-08-23 19:46:23  \n",
      "539  0.0       0      0     1  2015-11-13 17:36:38  \n",
      "\n",
      "[3 rows x 23 columns]\n"
     ]
    }
   ],
   "source": [
    "print(selection)"
   ]
  },
  {
   "cell_type": "code",
   "execution_count": 6,
   "metadata": {},
   "outputs": [],
   "source": [
    "my_prop = prop_table[prop_table['myid'] == 128]"
   ]
  },
  {
   "cell_type": "code",
   "execution_count": 7,
   "metadata": {},
   "outputs": [
    {
     "data": {
      "text/html": [
       "<div>\n",
       "<style scoped>\n",
       "    .dataframe tbody tr th:only-of-type {\n",
       "        vertical-align: middle;\n",
       "    }\n",
       "\n",
       "    .dataframe tbody tr th {\n",
       "        vertical-align: top;\n",
       "    }\n",
       "\n",
       "    .dataframe thead th {\n",
       "        text-align: right;\n",
       "    }\n",
       "</style>\n",
       "<table border=\"1\" class=\"dataframe\">\n",
       "  <thead>\n",
       "    <tr style=\"text-align: right;\">\n",
       "      <th></th>\n",
       "      <th>myid</th>\n",
       "      <th>tbs</th>\n",
       "      <th>Name</th>\n",
       "      <th>Dia</th>\n",
       "      <th>Pitch</th>\n",
       "      <th>a</th>\n",
       "      <th>b</th>\n",
       "      <th>AltThr</th>\n",
       "      <th>TmpThr</th>\n",
       "      <th>srcThr</th>\n",
       "      <th>...</th>\n",
       "      <th>TmpPwr</th>\n",
       "      <th>srcPwr</th>\n",
       "      <th>n10N</th>\n",
       "      <th>n100W</th>\n",
       "      <th>Folder</th>\n",
       "      <th>Hub</th>\n",
       "      <th>MaxRPM</th>\n",
       "      <th>match</th>\n",
       "      <th>Rely</th>\n",
       "      <th>ts</th>\n",
       "    </tr>\n",
       "  </thead>\n",
       "  <tbody>\n",
       "    <tr>\n",
       "      <th>126</th>\n",
       "      <td>128</td>\n",
       "      <td>4</td>\n",
       "      <td>APC E</td>\n",
       "      <td>13.0</td>\n",
       "      <td>4.0</td>\n",
       "      <td>17.26154</td>\n",
       "      <td>2.264648</td>\n",
       "      <td>0</td>\n",
       "      <td>15.0</td>\n",
       "      <td>DC generated</td>\n",
       "      <td>...</td>\n",
       "      <td>18.0</td>\n",
       "      <td>DC generated</td>\n",
       "      <td>6056.1</td>\n",
       "      <td>6201.8</td>\n",
       "      <td>0</td>\n",
       "      <td>0.0</td>\n",
       "      <td>14615</td>\n",
       "      <td>0</td>\n",
       "      <td>3</td>\n",
       "      <td>2010-03-09 20:07:44</td>\n",
       "    </tr>\n",
       "  </tbody>\n",
       "</table>\n",
       "<p>1 rows × 23 columns</p>\n",
       "</div>"
      ],
      "text/plain": [
       "     myid  tbs   Name   Dia  Pitch         a         b  AltThr  TmpThr  \\\n",
       "126   128    4  APC E  13.0    4.0  17.26154  2.264648       0    15.0   \n",
       "\n",
       "           srcThr  ...  TmpPwr        srcPwr    n10N   n100W Folder  Hub  \\\n",
       "126  DC generated  ...    18.0  DC generated  6056.1  6201.8      0  0.0   \n",
       "\n",
       "     MaxRPM  match  Rely                   ts  \n",
       "126   14615      0     3  2010-03-09 20:07:44  \n",
       "\n",
       "[1 rows x 23 columns]"
      ]
     },
     "execution_count": 7,
     "metadata": {},
     "output_type": "execute_result"
    }
   ],
   "source": [
    "my_prop"
   ]
  },
  {
   "cell_type": "code",
   "execution_count": 8,
   "metadata": {},
   "outputs": [
    {
     "data": {
      "text/html": [
       "<div>\n",
       "<style scoped>\n",
       "    .dataframe tbody tr th:only-of-type {\n",
       "        vertical-align: middle;\n",
       "    }\n",
       "\n",
       "    .dataframe tbody tr th {\n",
       "        vertical-align: top;\n",
       "    }\n",
       "\n",
       "    .dataframe thead th {\n",
       "        text-align: right;\n",
       "    }\n",
       "</style>\n",
       "<table border=\"1\" class=\"dataframe\">\n",
       "  <thead>\n",
       "    <tr style=\"text-align: right;\">\n",
       "      <th></th>\n",
       "      <th>myid</th>\n",
       "      <th>tbs</th>\n",
       "      <th>Name</th>\n",
       "      <th>Dia</th>\n",
       "      <th>Pitch</th>\n",
       "      <th>a</th>\n",
       "      <th>b</th>\n",
       "      <th>AltThr</th>\n",
       "      <th>TmpThr</th>\n",
       "      <th>srcThr</th>\n",
       "      <th>...</th>\n",
       "      <th>TmpPwr</th>\n",
       "      <th>srcPwr</th>\n",
       "      <th>n10N</th>\n",
       "      <th>n100W</th>\n",
       "      <th>Folder</th>\n",
       "      <th>Hub</th>\n",
       "      <th>MaxRPM</th>\n",
       "      <th>match</th>\n",
       "      <th>Rely</th>\n",
       "      <th>ts</th>\n",
       "    </tr>\n",
       "  </thead>\n",
       "  <tbody>\n",
       "    <tr>\n",
       "      <th>54</th>\n",
       "      <td>56</td>\n",
       "      <td>4</td>\n",
       "      <td>GWS RS</td>\n",
       "      <td>9.0</td>\n",
       "      <td>7.0</td>\n",
       "      <td>11.832290</td>\n",
       "      <td>2.117133</td>\n",
       "      <td>200</td>\n",
       "      <td>20.0</td>\n",
       "      <td>Dr Kiwi</td>\n",
       "      <td>...</td>\n",
       "      <td>15.0</td>\n",
       "      <td>Schenk</td>\n",
       "      <td>8206.60</td>\n",
       "      <td>7075.90</td>\n",
       "      <td>0</td>\n",
       "      <td>0.0</td>\n",
       "      <td>6666</td>\n",
       "      <td>0</td>\n",
       "      <td>30</td>\n",
       "      <td>2010-03-08 16:01:59</td>\n",
       "    </tr>\n",
       "    <tr>\n",
       "      <th>55</th>\n",
       "      <td>57</td>\n",
       "      <td>4</td>\n",
       "      <td>GWS RS 3-Blade</td>\n",
       "      <td>9.0</td>\n",
       "      <td>7.0</td>\n",
       "      <td>13.824870</td>\n",
       "      <td>2.024323</td>\n",
       "      <td>200</td>\n",
       "      <td>20.0</td>\n",
       "      <td>Dr Kiwi</td>\n",
       "      <td>...</td>\n",
       "      <td>7.0</td>\n",
       "      <td>Persson 23.11.05</td>\n",
       "      <td>8369.30</td>\n",
       "      <td>6566.00</td>\n",
       "      <td>0</td>\n",
       "      <td>0.0</td>\n",
       "      <td>6666</td>\n",
       "      <td>0</td>\n",
       "      <td>30</td>\n",
       "      <td>2010-03-08 16:02:22</td>\n",
       "    </tr>\n",
       "    <tr>\n",
       "      <th>77</th>\n",
       "      <td>79</td>\n",
       "      <td>4</td>\n",
       "      <td>AeroCAM</td>\n",
       "      <td>10.0</td>\n",
       "      <td>8.0</td>\n",
       "      <td>9.579566</td>\n",
       "      <td>2.206408</td>\n",
       "      <td>0</td>\n",
       "      <td>15.0</td>\n",
       "      <td>DC generated</td>\n",
       "      <td>...</td>\n",
       "      <td>15.0</td>\n",
       "      <td>Aeronaut Diagram</td>\n",
       "      <td>8293.70</td>\n",
       "      <td>6601.40</td>\n",
       "      <td>1</td>\n",
       "      <td>42.0</td>\n",
       "      <td>16000</td>\n",
       "      <td>0</td>\n",
       "      <td>8</td>\n",
       "      <td>2010-03-09 19:52:30</td>\n",
       "    </tr>\n",
       "    <tr>\n",
       "      <th>88</th>\n",
       "      <td>90</td>\n",
       "      <td>4</td>\n",
       "      <td>Graupner CAM</td>\n",
       "      <td>11.0</td>\n",
       "      <td>4.0</td>\n",
       "      <td>13.767390</td>\n",
       "      <td>2.012500</td>\n",
       "      <td>120</td>\n",
       "      <td>18.0</td>\n",
       "      <td>Hyperion</td>\n",
       "      <td>...</td>\n",
       "      <td>18.0</td>\n",
       "      <td>Hyperion</td>\n",
       "      <td>8491.95</td>\n",
       "      <td>7685.65</td>\n",
       "      <td>1</td>\n",
       "      <td>42.0</td>\n",
       "      <td>0</td>\n",
       "      <td>0</td>\n",
       "      <td>7</td>\n",
       "      <td>2006-03-21 17:17:59</td>\n",
       "    </tr>\n",
       "    <tr>\n",
       "      <th>106</th>\n",
       "      <td>108</td>\n",
       "      <td>4</td>\n",
       "      <td>Graupner CAM</td>\n",
       "      <td>12.0</td>\n",
       "      <td>4.0</td>\n",
       "      <td>10.700950</td>\n",
       "      <td>2.169500</td>\n",
       "      <td>120</td>\n",
       "      <td>18.0</td>\n",
       "      <td>Hyperion</td>\n",
       "      <td>...</td>\n",
       "      <td>18.0</td>\n",
       "      <td>DC generated</td>\n",
       "      <td>8169.90</td>\n",
       "      <td>5703.60</td>\n",
       "      <td>1</td>\n",
       "      <td>42.0</td>\n",
       "      <td>0</td>\n",
       "      <td>0</td>\n",
       "      <td>1</td>\n",
       "      <td>2009-10-24 13:10:36</td>\n",
       "    </tr>\n",
       "    <tr>\n",
       "      <th>231</th>\n",
       "      <td>233</td>\n",
       "      <td>4</td>\n",
       "      <td>APC SF</td>\n",
       "      <td>9.0</td>\n",
       "      <td>6.0</td>\n",
       "      <td>10.021100</td>\n",
       "      <td>2.221310</td>\n",
       "      <td>200</td>\n",
       "      <td>20.0</td>\n",
       "      <td>Dr Kiwi</td>\n",
       "      <td>...</td>\n",
       "      <td>5.0</td>\n",
       "      <td>DC generated</td>\n",
       "      <td>8012.60</td>\n",
       "      <td>6539.60</td>\n",
       "      <td>0</td>\n",
       "      <td>0.0</td>\n",
       "      <td>7222</td>\n",
       "      <td>0</td>\n",
       "      <td>3</td>\n",
       "      <td>2010-03-08 16:00:16</td>\n",
       "    </tr>\n",
       "    <tr>\n",
       "      <th>305</th>\n",
       "      <td>311</td>\n",
       "      <td>4</td>\n",
       "      <td>Dymond E</td>\n",
       "      <td>10.0</td>\n",
       "      <td>6.0</td>\n",
       "      <td>12.905850</td>\n",
       "      <td>2.073536</td>\n",
       "      <td>0</td>\n",
       "      <td>15.0</td>\n",
       "      <td>DC generated</td>\n",
       "      <td>...</td>\n",
       "      <td>15.0</td>\n",
       "      <td>DC generated</td>\n",
       "      <td>8226.10</td>\n",
       "      <td>6659.60</td>\n",
       "      <td>0</td>\n",
       "      <td>0.0</td>\n",
       "      <td>0</td>\n",
       "      <td>0</td>\n",
       "      <td>3</td>\n",
       "      <td>2009-08-19 21:43:23</td>\n",
       "    </tr>\n",
       "    <tr>\n",
       "      <th>336</th>\n",
       "      <td>345</td>\n",
       "      <td>4</td>\n",
       "      <td>Graupner CAM</td>\n",
       "      <td>10.0</td>\n",
       "      <td>6.0</td>\n",
       "      <td>13.421750</td>\n",
       "      <td>2.032977</td>\n",
       "      <td>0</td>\n",
       "      <td>15.0</td>\n",
       "      <td>DC generated</td>\n",
       "      <td>...</td>\n",
       "      <td>15.0</td>\n",
       "      <td></td>\n",
       "      <td>8415.50</td>\n",
       "      <td>7610.00</td>\n",
       "      <td>0</td>\n",
       "      <td>0.0</td>\n",
       "      <td>13500</td>\n",
       "      <td>0</td>\n",
       "      <td>1</td>\n",
       "      <td>2010-03-09 19:47:10</td>\n",
       "    </tr>\n",
       "    <tr>\n",
       "      <th>338</th>\n",
       "      <td>347</td>\n",
       "      <td>4</td>\n",
       "      <td>Graupner CAM</td>\n",
       "      <td>10.0</td>\n",
       "      <td>8.0</td>\n",
       "      <td>17.469150</td>\n",
       "      <td>1.947381</td>\n",
       "      <td>0</td>\n",
       "      <td>15.0</td>\n",
       "      <td>DC generated</td>\n",
       "      <td>...</td>\n",
       "      <td>15.0</td>\n",
       "      <td></td>\n",
       "      <td>8071.70</td>\n",
       "      <td>6740.00</td>\n",
       "      <td>0</td>\n",
       "      <td>0.0</td>\n",
       "      <td>13500</td>\n",
       "      <td>0</td>\n",
       "      <td>1</td>\n",
       "      <td>2010-03-09 19:52:55</td>\n",
       "    </tr>\n",
       "    <tr>\n",
       "      <th>440</th>\n",
       "      <td>449</td>\n",
       "      <td>4</td>\n",
       "      <td>Master Airscrew 3BL</td>\n",
       "      <td>10.0</td>\n",
       "      <td>7.0</td>\n",
       "      <td>16.058900</td>\n",
       "      <td>1.942275</td>\n",
       "      <td>0</td>\n",
       "      <td>15.0</td>\n",
       "      <td>DC generated</td>\n",
       "      <td>...</td>\n",
       "      <td>15.0</td>\n",
       "      <td>DC generated</td>\n",
       "      <td>8475.60</td>\n",
       "      <td>6630.60</td>\n",
       "      <td>0</td>\n",
       "      <td>0.0</td>\n",
       "      <td>0</td>\n",
       "      <td>0</td>\n",
       "      <td>3</td>\n",
       "      <td>2013-10-30 18:08:24</td>\n",
       "    </tr>\n",
       "    <tr>\n",
       "      <th>467</th>\n",
       "      <td>476</td>\n",
       "      <td>4</td>\n",
       "      <td>iFlight CF</td>\n",
       "      <td>10.0</td>\n",
       "      <td>4.5</td>\n",
       "      <td>15.242600</td>\n",
       "      <td>1.995317</td>\n",
       "      <td>200</td>\n",
       "      <td>22.0</td>\n",
       "      <td>DC generated</td>\n",
       "      <td>...</td>\n",
       "      <td>22.0</td>\n",
       "      <td>DC generated</td>\n",
       "      <td>8219.60</td>\n",
       "      <td>6652.80</td>\n",
       "      <td>0</td>\n",
       "      <td>0.0</td>\n",
       "      <td>0</td>\n",
       "      <td>0</td>\n",
       "      <td>5</td>\n",
       "      <td>2014-03-29 13:49:03</td>\n",
       "    </tr>\n",
       "  </tbody>\n",
       "</table>\n",
       "<p>11 rows × 23 columns</p>\n",
       "</div>"
      ],
      "text/plain": [
       "     myid  tbs                 Name   Dia  Pitch          a         b  AltThr  \\\n",
       "54     56    4               GWS RS   9.0    7.0  11.832290  2.117133     200   \n",
       "55     57    4       GWS RS 3-Blade   9.0    7.0  13.824870  2.024323     200   \n",
       "77     79    4              AeroCAM  10.0    8.0   9.579566  2.206408       0   \n",
       "88     90    4         Graupner CAM  11.0    4.0  13.767390  2.012500     120   \n",
       "106   108    4         Graupner CAM  12.0    4.0  10.700950  2.169500     120   \n",
       "231   233    4               APC SF   9.0    6.0  10.021100  2.221310     200   \n",
       "305   311    4             Dymond E  10.0    6.0  12.905850  2.073536       0   \n",
       "336   345    4         Graupner CAM  10.0    6.0  13.421750  2.032977       0   \n",
       "338   347    4         Graupner CAM  10.0    8.0  17.469150  1.947381       0   \n",
       "440   449    4  Master Airscrew 3BL  10.0    7.0  16.058900  1.942275       0   \n",
       "467   476    4           iFlight CF  10.0    4.5  15.242600  1.995317     200   \n",
       "\n",
       "     TmpThr        srcThr  ...  TmpPwr            srcPwr     n10N    n100W  \\\n",
       "54     20.0       Dr Kiwi  ...    15.0            Schenk  8206.60  7075.90   \n",
       "55     20.0       Dr Kiwi  ...     7.0  Persson 23.11.05  8369.30  6566.00   \n",
       "77     15.0  DC generated  ...    15.0  Aeronaut Diagram  8293.70  6601.40   \n",
       "88     18.0      Hyperion  ...    18.0          Hyperion  8491.95  7685.65   \n",
       "106    18.0      Hyperion  ...    18.0      DC generated  8169.90  5703.60   \n",
       "231    20.0       Dr Kiwi  ...     5.0      DC generated  8012.60  6539.60   \n",
       "305    15.0  DC generated  ...    15.0      DC generated  8226.10  6659.60   \n",
       "336    15.0  DC generated  ...    15.0                    8415.50  7610.00   \n",
       "338    15.0  DC generated  ...    15.0                    8071.70  6740.00   \n",
       "440    15.0  DC generated  ...    15.0      DC generated  8475.60  6630.60   \n",
       "467    22.0  DC generated  ...    22.0      DC generated  8219.60  6652.80   \n",
       "\n",
       "    Folder   Hub  MaxRPM  match  Rely                   ts  \n",
       "54       0   0.0    6666      0    30  2010-03-08 16:01:59  \n",
       "55       0   0.0    6666      0    30  2010-03-08 16:02:22  \n",
       "77       1  42.0   16000      0     8  2010-03-09 19:52:30  \n",
       "88       1  42.0       0      0     7  2006-03-21 17:17:59  \n",
       "106      1  42.0       0      0     1  2009-10-24 13:10:36  \n",
       "231      0   0.0    7222      0     3  2010-03-08 16:00:16  \n",
       "305      0   0.0       0      0     3  2009-08-19 21:43:23  \n",
       "336      0   0.0   13500      0     1  2010-03-09 19:47:10  \n",
       "338      0   0.0   13500      0     1  2010-03-09 19:52:55  \n",
       "440      0   0.0       0      0     3  2013-10-30 18:08:24  \n",
       "467      0   0.0       0      0     5  2014-03-29 13:49:03  \n",
       "\n",
       "[11 rows x 23 columns]"
      ]
     },
     "execution_count": 8,
     "metadata": {},
     "output_type": "execute_result"
    }
   ],
   "source": [
    "prop_table[(prop_table['n10N'] > 8000.0) & (prop_table['n10N'] < 8500.0)]"
   ]
  },
  {
   "cell_type": "code",
   "execution_count": 9,
   "metadata": {},
   "outputs": [
    {
     "name": "stdout",
     "output_type": "stream",
     "text": [
      "generic\n",
      "APC E\n"
     ]
    }
   ],
   "source": [
    "prop = PropellerStatic.fromTable(prop_table, 128)"
   ]
  },
  {
   "cell_type": "code",
   "execution_count": 10,
   "metadata": {},
   "outputs": [
    {
     "data": {
      "text/plain": [
       "6201.8"
      ]
     },
     "execution_count": 10,
     "metadata": {},
     "output_type": "execute_result"
    }
   ],
   "source": [
    "prop.n100W"
   ]
  },
  {
   "cell_type": "code",
   "execution_count": 11,
   "metadata": {},
   "outputs": [
    {
     "data": {
      "image/png": "[encoded data removed]",
      "text/plain": [
       "<Figure size 432x288 with 1 Axes>"
      ]
     },
     "metadata": {
      "needs_background": "light"
     },
     "output_type": "display_data"
    },
    {
     "data": {
      "image/png": "[encoded data removed]",
      "text/plain": [
       "<Figure size 432x288 with 1 Axes>"
      ]
     },
     "metadata": {
      "needs_background": "light"
     },
     "output_type": "display_data"
    }
   ],
   "source": [
    "n = np.linspace(0,prop.n10N,100)\n",
    "T = prop.Thrust(n)\n",
    "plt.plot(n,T)\n",
    "plt.grid()\n",
    "plt.show()\n",
    "\n",
    "P = prop.ShaftPower(n)\n",
    "plt.plot(n,P)\n",
    "plt.grid()\n",
    "plt.show()"
   ]
  },
  {
   "cell_type": "markdown",
   "metadata": {},
   "source": [
    "## create a new prop from data"
   ]
  },
  {
   "cell_type": "markdown",
   "metadata": {},
   "source": [
    "### 13x4.5 Propeller Carbon Fiber 1345\n",
    "### mit T-Motor MN3508-29"
   ]
  },
  {
   "cell_type": "raw",
   "metadata": {},
   "source": [
    "Messung @ 22.2V\n",
    "50% 2.1A 550g 4300rpm\n",
    "65% 3.7A 810g 5300rpm\n",
    "75% 5.5A 1000g 6000rpm\n",
    "85% 7.1A 1300g 6700rpm\n",
    "100% 8.4A 1380g 7040rpm\n",
    "assume 88% motor efficiency"
   ]
  },
  {
   "cell_type": "code",
   "execution_count": 12,
   "metadata": {},
   "outputs": [
    {
     "name": "stdout",
     "output_type": "stream",
     "text": [
      "generic\n"
     ]
    }
   ],
   "source": [
    "cf1345 = PropellerStatic()"
   ]
  },
  {
   "cell_type": "code",
   "execution_count": 13,
   "metadata": {},
   "outputs": [],
   "source": [
    "rpmData = np.array([4300, 5300, 6000, 6700, 7040])\n",
    "tData = np.array([5.5, 8.1, 10.0, 13.0, 13.8])\n",
    "iData = np.array([2.1, 3.7, 5.5, 7.1, 8.4])\n",
    "pData = iData * 22.2 * 0.88"
   ]
  },
  {
   "cell_type": "code",
   "execution_count": 14,
   "metadata": {},
   "outputs": [
    {
     "name": "stdout",
     "output_type": "stream",
     "text": [
      "a=7.25008e-07  b=1.89271\n",
      "n10N=5918.250343\n"
     ]
    }
   ],
   "source": [
    "cf1345.fitThrust(rpmData,tData)"
   ]
  },
  {
   "cell_type": "code",
   "execution_count": 15,
   "metadata": {},
   "outputs": [
    {
     "name": "stdout",
     "output_type": "stream",
     "text": [
      "c=2.679e-09  d=2.80287\n",
      "n100W=5913.746889\n"
     ]
    }
   ],
   "source": [
    "cf1345.fitPower(rpmData,pData)"
   ]
  },
  {
   "cell_type": "code",
   "execution_count": 16,
   "metadata": {},
   "outputs": [
    {
     "data": {
      "image/png": "[encoded data removed]",
      "text/plain": [
       "<Figure size 432x288 with 1 Axes>"
      ]
     },
     "metadata": {
      "needs_background": "light"
     },
     "output_type": "display_data"
    },
    {
     "data": {
      "image/png": "[encoded data removed]",
      "text/plain": [
       "<Figure size 432x288 with 1 Axes>"
      ]
     },
     "metadata": {
      "needs_background": "light"
     },
     "output_type": "display_data"
    }
   ],
   "source": [
    "n = np.linspace(0,8000,100)\n",
    "T = cf1345.Thrust(n)\n",
    "plt.plot(n,T)\n",
    "plt.plot(rpmData,tData,'r.')\n",
    "plt.grid()\n",
    "plt.show()\n",
    "\n",
    "P = cf1345.ShaftPower(n)\n",
    "plt.plot(n,P)\n",
    "plt.plot(rpmData,pData,'r.')\n",
    "plt.grid()\n",
    "plt.show()"
   ]
  },
  {
   "cell_type": "code",
   "execution_count": null,
   "metadata": {},
   "outputs": [],
   "source": []
  }
 ],
 "metadata": {
  "kernelspec": {
   "display_name": "Python 3",
   "language": "python",
   "name": "python3"
  },
  "language_info": {
   "codemirror_mode": {
    "name": "ipython",
    "version": 3
   },
   "file_extension": ".py",
   "mimetype": "text/x-python",
   "name": "python",
   "nbconvert_exporter": "python",
   "pygments_lexer": "ipython3",
   "version": "3.7.3"
  }
 },
 "nbformat": 4,
 "nbformat_minor": 2
}
