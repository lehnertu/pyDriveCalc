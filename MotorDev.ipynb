{
 "cells": [
  {
   "cell_type": "code",
   "execution_count": 30,
   "metadata": {},
   "outputs": [],
   "source": [
    "import numpy as np\n",
    "import matplotlib.pyplot as plt\n",
    "\n",
    "from DriveCalc import *"
   ]
  },
  {
   "cell_type": "code",
   "execution_count": 7,
   "metadata": {},
   "outputs": [],
   "source": [
    "motor_table = get_motor_database()"
   ]
  },
  {
   "cell_type": "code",
   "execution_count": 8,
   "metadata": {},
   "outputs": [
    {
     "name": "stdout",
     "output_type": "stream",
     "text": [
      "myid\n",
      "tbs\n",
      "Name\n",
      "Rem\n",
      "custom\n",
      "meas\n",
      "match\n",
      "StatDia\n",
      "StatH\n",
      "Turns\n",
      "WireDia\n",
      "Delta\n",
      "Imax\n",
      "Weight\n",
      "mgear_id\n",
      "mesc_id\n",
      "kV\n",
      "Rm\n",
      "K\n",
      "MvK\n",
      "kL\n",
      "ts\n"
     ]
    }
   ],
   "source": [
    "for col in motor_table.columns:\n",
    "            print(col)"
   ]
  },
  {
   "cell_type": "code",
   "execution_count": 25,
   "metadata": {},
   "outputs": [],
   "source": [
    "class MotorGeneric():\n",
    "    \"\"\"\n",
    "    This class describes an electric motor chaaracterized by\n",
    "    the generator voltage coefficient, the effective winding resistance\n",
    "    and the no-load power.\n",
    "    \"\"\"\n",
    "    \n",
    "    def __init__(self, kV, Ri, I0):\n",
    "        \"\"\"\n",
    "        Generate a generic electric motor.\n",
    "        \"\"\"\n",
    "        self.Name = 'generic'\n",
    "        print(self.Name)\n",
    "        self.kV = kV\n",
    "        self.Ri = Ri\n",
    "        self.I0 = I0\n",
    "\n",
    "    def noLoadRPM(self, U):\n",
    "        \"\"\"\n",
    "        Compute the RPM at no load at given voltage.\n",
    "        \"\"\"\n",
    "        return U*self.kV\n",
    "    \n",
    "    def shaftPowerFromRPM(self, rpm, U):\n",
    "        \"\"\"\n",
    "        Given the battery voltage, the shaft power output is computed\n",
    "        from the revolution speed (max noLoadRPM)\n",
    "        \"\"\"\n",
    "        if rpm < self.noLoadRPM(U):\n",
    "            U_wirk = U - rpm/self.kV\n",
    "            I_wirk = U_wirk/self.Ri\n",
    "            return U_wirk*I_wirk\n",
    "        else:\n",
    "            return 0.0\n",
    "\n",
    "    def currentFromRPM(self, rpm, U):\n",
    "        \"\"\"\n",
    "        Given the battery voltage, the current consumption is computed\n",
    "        from the revolution speed (max noLoadRPM)\n",
    "        \"\"\"\n",
    "        if rpm < self.noLoadRPM(U):\n",
    "            U_wirk = U - rpm/self.kV\n",
    "            return U_wirk/self.Ri + self.I0\n",
    "        else:\n",
    "            return 0.0"
   ]
  },
  {
   "cell_type": "code",
   "execution_count": 26,
   "metadata": {},
   "outputs": [
    {
     "name": "stdout",
     "output_type": "stream",
     "text": [
      "generic\n"
     ]
    }
   ],
   "source": [
    "mot = MotorGeneric(1500,0.2,1.0)"
   ]
  },
  {
   "cell_type": "code",
   "execution_count": 31,
   "metadata": {},
   "outputs": [
    {
     "data": {
      "image/png": "[encoded data removed]",
      "text/plain": [
       "<Figure size 432x288 with 1 Axes>"
      ]
     },
     "metadata": {
      "needs_background": "light"
     },
     "output_type": "display_data"
    }
   ],
   "source": [
    "rpmList = np.linspace(0,mot.noLoadRPM(12.0),100)\n",
    "iList = [mot.currentFromRPM(rpm,12.0) for rpm in rpmList]\n",
    "\n",
    "plt.plot(iList,rpmList)\n",
    "plt.show()"
   ]
  },
  {
   "cell_type": "code",
   "execution_count": null,
   "metadata": {},
   "outputs": [],
   "source": []
  }
 ],
 "metadata": {
  "kernelspec": {
   "display_name": "Python 3",
   "language": "python",
   "name": "python3"
  },
  "language_info": {
   "codemirror_mode": {
    "name": "ipython",
    "version": 3
   },
   "file_extension": ".py",
   "mimetype": "text/x-python",
   "name": "python",
   "nbconvert_exporter": "python",
   "pygments_lexer": "ipython3",
   "version": "3.7.3"
  }
 },
 "nbformat": 4,
 "nbformat_minor": 2
}
