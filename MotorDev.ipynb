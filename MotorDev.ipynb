{
 "cells": [
  {
   "cell_type": "code",
   "execution_count": 3,
   "metadata": {},
   "outputs": [],
   "source": [
    "import numpy as np\n",
    "import matplotlib.pyplot as plt\n",
    "\n",
    "from DriveCalc import *"
   ]
  },
  {
   "cell_type": "code",
   "execution_count": 2,
   "metadata": {},
   "outputs": [],
   "source": [
    "motor_table = get_motor_database()"
   ]
  },
  {
   "cell_type": "code",
   "execution_count": 3,
   "metadata": {},
   "outputs": [
    {
     "name": "stdout",
     "output_type": "stream",
     "text": [
      "myid\n",
      "tbs\n",
      "Name\n",
      "Rem\n",
      "custom\n",
      "meas\n",
      "match\n",
      "StatDia\n",
      "StatH\n",
      "Turns\n",
      "WireDia\n",
      "Delta\n",
      "Imax\n",
      "Weight\n",
      "mgear_id\n",
      "mesc_id\n",
      "kV\n",
      "Rm\n",
      "K\n",
      "MvK\n",
      "kL\n",
      "ts\n"
     ]
    }
   ],
   "source": [
    "for col in motor_table.columns:\n",
    "            print(col)"
   ]
  },
  {
   "cell_type": "code",
   "execution_count": 4,
   "metadata": {},
   "outputs": [],
   "source": [
    "class MotorGeneric():\n",
    "    \"\"\"\n",
    "    This class describes an electric motor chaaracterized by\n",
    "    the generator voltage coefficient, the effective winding resistance\n",
    "    and the no-load power.\n",
    "    \"\"\"\n",
    "    \n",
    "    def __init__(self, kV, Ri, I0):\n",
    "        \"\"\"\n",
    "        Generate a generic electric motor.\n",
    "        \"\"\"\n",
    "        self.Name = 'generic'\n",
    "        print(self.Name)\n",
    "        self.kV = kV\n",
    "        self.Ri = Ri\n",
    "        self.I0 = I0\n",
    "\n",
    "    def noLoadRPM(self, U):\n",
    "        \"\"\"\n",
    "        Compute the RPM at no load at given voltage.\n",
    "        \"\"\"\n",
    "        return U*self.kV\n",
    "    \n",
    "    def shaftPowerFromRPM(self, rpm, U):\n",
    "        \"\"\"\n",
    "        Given the battery voltage, the shaft power output is computed\n",
    "        from the revolution speed (max noLoadRPM)\n",
    "        \"\"\"\n",
    "        if rpm < self.noLoadRPM(U):\n",
    "            U_wirk = U - rpm/self.kV\n",
    "            I_wirk = U_wirk/self.Ri\n",
    "            return U_wirk*I_wirk\n",
    "        else:\n",
    "            return 0.0\n",
    "\n",
    "    def currentFromRPM(self, rpm, U):\n",
    "        \"\"\"\n",
    "        Given the battery voltage, the current consumption is computed\n",
    "        from the revolution speed (max noLoadRPM)\n",
    "        \"\"\"\n",
    "        if rpm < self.noLoadRPM(U):\n",
    "            U_wirk = U - rpm/self.kV\n",
    "            return U_wirk/self.Ri + self.I0\n",
    "        else:\n",
    "            return 0.0"
   ]
  },
  {
   "cell_type": "code",
   "execution_count": 5,
   "metadata": {},
   "outputs": [
    {
     "name": "stdout",
     "output_type": "stream",
     "text": [
      "generic\n"
     ]
    }
   ],
   "source": [
    "mot = MotorGeneric(1500,0.2,1.0)"
   ]
  },
  {
   "cell_type": "code",
   "execution_count": 6,
   "metadata": {},
   "outputs": [
    {
     "data": {
      "image/png": "[encoded data removed]",
      "text/plain": [
       "<Figure size 432x288 with 1 Axes>"
      ]
     },
     "metadata": {
      "needs_background": "light"
     },
     "output_type": "display_data"
    }
   ],
   "source": [
    "rpmList = np.linspace(0,mot.noLoadRPM(12.0),100)\n",
    "iList = [mot.currentFromRPM(rpm,12.0) for rpm in rpmList]\n",
    "\n",
    "plt.plot(iList,rpmList)\n",
    "plt.show()"
   ]
  },
  {
   "cell_type": "markdown",
   "metadata": {},
   "source": [
    "## T-Motor MN2806 650kV with P13x4.4"
   ]
  },
  {
   "cell_type": "code",
   "execution_count": 60,
   "metadata": {},
   "outputs": [
    {
     "name": "stdout",
     "output_type": "stream",
     "text": [
      "generic\n"
     ]
    }
   ],
   "source": [
    "mn2860 = MotorGeneric(600, 1.3*0.275, 0.2)"
   ]
  },
  {
   "cell_type": "code",
   "execution_count": 61,
   "metadata": {},
   "outputs": [
    {
     "name": "stdout",
     "output_type": "stream",
     "text": [
      "[ 20.4732  29.1588  38.2664  48.2646  59.7132  71.3168  83.7018  99.4917\n",
      " 115.9752 133.7425 153.722  171.4951 186.2876]\n",
      "[ 6.204   6.9795  7.715   8.481   9.234   9.9905 10.731  11.4975 12.224\n",
      " 12.9625 13.698  14.4305 15.17  ]\n",
      "[ 3.29464861  4.17365141  4.96435515  5.68329206  6.46523717  7.14678945\n",
      "  7.79983226  8.65405523  9.4895288  10.31436837 11.12571178 11.89147985\n",
      " 12.28740936]\n"
     ]
    }
   ],
   "source": [
    "vList=[15.51, 15.51, 15.43, 15.42, 15.39, 15.37, 15.33, 15.33, 15.28, 15.25, 15.22, 15.19, 15.17]\n",
    "pwmList=[0.4, 0.45, 0.5, 0.55, 0.6, 0.65, 0.7, 0.75,0.8, 0.85, 0.9, 0.95, 1.0]\n",
    "iBattList=[1.32, 1.88, 2.48, 3.13, 3.88, 4.64, 5.46, 6.49, 7.59, 8.77, 10.1, 11.29, 12.28]\n",
    "print(np.array(iBattList)*np.array(vList))\n",
    "veffList = np.array(vList) * np.array(pwmList)\n",
    "print(veffList)\n",
    "rpmList=[2994, 3371, 3694, 3989, 4278, 4538, 4777, 5041, 5284, 5510, 5729, 5925, 6061]\n",
    "pList=[20.44, 29.13, 38.3, 48.2, 59.7, 71.4, 83.7, 99.5, 116.0, 133.7, 152.4, 171.6, 186.4]\n",
    "iList = np.array(pList)/np.array(veffList)\n",
    "print(iList)"
   ]
  },
  {
   "cell_type": "code",
   "execution_count": 59,
   "metadata": {},
   "outputs": [
    {
     "data": {
      "image/png": "[encoded data removed]",
      "text/plain": [
       "<Figure size 432x288 with 1 Axes>"
      ]
     },
     "metadata": {
      "needs_background": "light"
     },
     "output_type": "display_data"
    }
   ],
   "source": [
    "i = [mn2860.currentFromRPM(r,v) for (r,v) in zip(rpmList,veffList)]\n",
    "\n",
    "plt.plot(i,rpmList)\n",
    "plt.plot(iList,rpmList,'r.')\n",
    "plt.show()"
   ]
  },
  {
   "cell_type": "code",
   "execution_count": 49,
   "metadata": {},
   "outputs": [
    {
     "name": "stdout",
     "output_type": "stream",
     "text": [
      "[ 12.54123787  21.18061767  27.07843428  33.41816825  40.31920012\n",
      "  52.27400736  55.02708972  68.62599712  77.46748605  86.55087761\n",
      "  95.99031633 111.68361884 114.24715844]\n"
     ]
    },
    {
     "data": {
      "image/png": "[encoded data removed]",
      "text/plain": [
       "<Figure size 432x288 with 1 Axes>"
      ]
     },
     "metadata": {
      "needs_background": "light"
     },
     "output_type": "display_data"
    }
   ],
   "source": [
    "# measured shaft torque [Nm]\n",
    "qList=[0.04, 0.06, 0.07, 0.08, 0.09, 0.11, 0.11, 0.13, 0.14, 0.15, 0.16, 0.18, 0.18]\n",
    "pShaftList= np.array(qList)*np.array(rpmList)*2*np.pi/60.0\n",
    "print(pShaftList)\n",
    "\n",
    "eta = pShaftList / np.array(pList)\n",
    "plt.plot(i,eta,'r.')\n",
    "plt.show()"
   ]
  },
  {
   "cell_type": "code",
   "execution_count": 50,
   "metadata": {},
   "outputs": [
    {
     "name": "stdout",
     "output_type": "stream",
     "text": [
      "0.014649141630901287\n"
     ]
    }
   ],
   "source": [
    "# fit torque constant kA [Nm/A]\n",
    "kA = qList[-1] / iList[-1]\n",
    "print(kA)"
   ]
  },
  {
   "cell_type": "code",
   "execution_count": 51,
   "metadata": {},
   "outputs": [
    {
     "data": {
      "image/png": "[encoded data removed]",
      "text/plain": [
       "<Figure size 432x288 with 1 Axes>"
      ]
     },
     "metadata": {
      "needs_background": "light"
     },
     "output_type": "display_data"
    }
   ],
   "source": [
    "iPlot = np.linspace(0,13,100)\n",
    "qPlot = kA*(iPlot-mn2860.I0)\n",
    "\n",
    "plt.plot(iPlot,qPlot)\n",
    "plt.plot(iList,qList,'r.')\n",
    "plt.show()"
   ]
  },
  {
   "cell_type": "code",
   "execution_count": 52,
   "metadata": {},
   "outputs": [],
   "source": [
    "# Thrust generated with P13x4.4\n",
    "tList=[2.69, 3.46, 4.17, 4.85, 5.57, 6.26, 7.0, 7.85, 8.63, 9.41, 10.15, 10.90, 11.38]"
   ]
  },
  {
   "cell_type": "code",
   "execution_count": 53,
   "metadata": {},
   "outputs": [
    {
     "name": "stdout",
     "output_type": "stream",
     "text": [
      "generic\n",
      "a=2.15534e-07  b=2.04183\n",
      "n10N=5684.783509\n"
     ]
    }
   ],
   "source": [
    "p1344 = PropellerStatic()\n",
    "p1344.fitThrust(rpmList, tList)"
   ]
  },
  {
   "cell_type": "code",
   "execution_count": 54,
   "metadata": {},
   "outputs": [
    {
     "data": {
      "image/png": "[encoded data removed]",
      "text/plain": [
       "<Figure size 432x288 with 1 Axes>"
      ]
     },
     "metadata": {
      "needs_background": "light"
     },
     "output_type": "display_data"
    }
   ],
   "source": [
    "rpm = np.linspace(0,6500,100)\n",
    "tPlot = [p1344.Thrust(r) for r in rpm]\n",
    "\n",
    "plt.plot(rpm,tPlot)\n",
    "plt.plot(rpmList,tList,'r.')\n",
    "plt.show()"
   ]
  },
  {
   "cell_type": "code",
   "execution_count": 55,
   "metadata": {},
   "outputs": [
    {
     "name": "stdout",
     "output_type": "stream",
     "text": [
      "c=3.95403e-10  d=3.03309\n",
      "n100W=5747.954051\n"
     ]
    }
   ],
   "source": [
    "p1344.fitPower(rpmList, pShaftList)"
   ]
  },
  {
   "cell_type": "code",
   "execution_count": 56,
   "metadata": {},
   "outputs": [
    {
     "data": {
      "image/png": "[encoded data removed]",
      "text/plain": [
       "<Figure size 432x288 with 1 Axes>"
      ]
     },
     "metadata": {
      "needs_background": "light"
     },
     "output_type": "display_data"
    }
   ],
   "source": [
    "pPlot = [p1344.ShaftPower(r) for r in rpm]\n",
    "\n",
    "pModel = pShaftList + iList*mn2860.Ri*veffList\n",
    "\n",
    "plt.plot(rpm,pPlot)\n",
    "plt.plot(rpmList,pList,'r.')\n",
    "plt.plot(rpmList,pModel,'b.')\n",
    "plt.plot(rpmList,pShaftList,'g.')\n",
    "plt.show()"
   ]
  },
  {
   "cell_type": "code",
   "execution_count": null,
   "metadata": {},
   "outputs": [],
   "source": []
  }
 ],
 "metadata": {
  "kernelspec": {
   "display_name": "Python 3",
   "language": "python",
   "name": "python3"
  },
  "language_info": {
   "codemirror_mode": {
    "name": "ipython",
    "version": 3
   },
   "file_extension": ".py",
   "mimetype": "text/x-python",
   "name": "python",
   "nbconvert_exporter": "python",
   "pygments_lexer": "ipython3",
   "version": "3.8.10"
  }
 },
 "nbformat": 4,
 "nbformat_minor": 2
}
