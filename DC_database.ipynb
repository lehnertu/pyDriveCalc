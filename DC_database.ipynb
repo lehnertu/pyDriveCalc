{
 "cells": [
  {
   "cell_type": "code",
   "execution_count": 120,
   "metadata": {},
   "outputs": [],
   "source": [
    "import sqlite3\n",
    "import pandas as pd\n",
    "import numpy as np\n",
    "import matplotlib.pyplot as plt"
   ]
  },
  {
   "cell_type": "code",
   "execution_count": 18,
   "metadata": {},
   "outputs": [],
   "source": [
    "conn = sqlite3.connect(\"DC34_de_Linux/DCbase.dcd\")"
   ]
  },
  {
   "cell_type": "code",
   "execution_count": 19,
   "metadata": {},
   "outputs": [
    {
     "name": "stdout",
     "output_type": "stream",
     "text": [
      "          name\n",
      "0    Batteries\n",
      "1          ESC\n",
      "2       Motors\n",
      "3        MData\n",
      "4    DriveSets\n",
      "5         Gear\n",
      "6        Props\n",
      "7      Stators\n",
      "8  Versioninfo\n"
     ]
    }
   ],
   "source": [
    "tables = pd.read_sql_query(\"SELECT name FROM sqlite_master WHERE type='table'\", conn)\n",
    "print(tables)"
   ]
  },
  {
   "cell_type": "code",
   "execution_count": 22,
   "metadata": {},
   "outputs": [],
   "source": [
    "motor_table = pd.read_sql_query(\"SELECT * from Motors\", conn)"
   ]
  },
  {
   "cell_type": "code",
   "execution_count": 23,
   "metadata": {},
   "outputs": [
    {
     "name": "stdout",
     "output_type": "stream",
     "text": [
      "      myid  tbs                                              Name  \\\n",
      "0        1    4                       137x50 11Y450 Kisscatz 9N6P   \n",
      "1        2    4                      137x50 19Y300 Kisscatz 9N12P   \n",
      "2        3    4                         179x49 16Y400 Staggerwing   \n",
      "3        4    4                         180x61 9Y560 Micro-Pibros   \n",
      "4        5    4                         190x130 7Y650 AC DYMOT-VL   \n",
      "...    ...  ...                                               ...   \n",
      "2140  2164    5               Turnigy Aerodrive SK3 - 3536-1200kv   \n",
      "2141  2165    5                            Racestar BR3526 1200KV   \n",
      "2142  2166    5                                  DYS D3542 1200kV   \n",
      "2143  2167    5                      SUNNYSKY X2814 (3536) 1200KV   \n",
      "2144  2168    5  C3542 1100KV 580W 2-4S Outrunner Brushless Motor   \n",
      "\n",
      "                                                    Rem  custom  meas  match  \\\n",
      "0       6pol 5x1,5x1 N45 kaskadiert zu 5x6x1 0,5-Bleche       1     3      0   \n",
      "1      12pol 5x1,5x1 N45 Kaskadiert zu 5x3x1 0,5-Bleche       1     4      0   \n",
      "2                                                 12pol       1     4      0   \n",
      "3                                           0,35-Bleche       1     3      0   \n",
      "4               www.aircraft-world.com, Mini LRK (6N8P)       1     3      0   \n",
      "...                                                 ...     ...   ...    ...   \n",
      "2140  https://hobbyking.com/jp_jp/turnigy-aerodrive-...       0     4      0   \n",
      "2141  https://www.racerstar.com/Racerstar-BR3536-120...       0     4      0   \n",
      "2142  https://www.ebay.com/itm/DYS-D3542-1250KV-Brus...       0     4      0   \n",
      "2143  https://www.ebay.com/itm/SUNNYSKY-X2814-1100KV...       0     4      0   \n",
      "2144  https://www.thanksbuyer.com/c3542-1100kv-580w-...       0     4      0   \n",
      "\n",
      "      StatDia  StatH  Turns  ...   Imax  Weight  mgear_id  mesc_id  \\\n",
      "0       13.70    5.0   11.0  ...  11.20     9.0         1       63   \n",
      "1       13.70    5.0   19.0  ...   6.88     8.8         1       66   \n",
      "2       17.92    4.9   16.0  ...   9.50    17.0         1       65   \n",
      "3       18.00    6.1    9.0  ...  14.40    23.0         1       65   \n",
      "4       19.00   13.0    7.0  ...   0.00     0.0         1        0   \n",
      "...       ...    ...    ...  ...    ...     ...       ...      ...   \n",
      "2140     0.00    0.0    0.0  ...  45.00   111.0         1        0   \n",
      "2141     0.00    0.0    0.0  ...  45.00   115.0         1        0   \n",
      "2142     0.00    0.0    0.0  ...  60.00   130.0         1        0   \n",
      "2143    28.00   14.0    0.0  ...  40.00   111.0         1        0   \n",
      "2144     0.00    0.0    0.0  ...  40.00   135.0         1        0   \n",
      "\n",
      "               kV        Rm             K  MvK            kL  \\\n",
      "0     5624.754247  0.097155  3.388796e-05  0.0  3.216441e-07   \n",
      "1     2286.269302  0.717340  0.000000e+00  0.0  7.925759e-07   \n",
      "2     1753.821852  0.292050  1.343163e-04  0.0  1.591903e-06   \n",
      "3     2926.077794  0.099521  5.824384e-05  0.0  9.338130e-07   \n",
      "4     3073.224335  0.157080  1.279644e-05  0.0  1.420950e-06   \n",
      "...           ...       ...           ...  ...           ...   \n",
      "2140  1205.946060  0.027797  9.341444e-07  0.0  8.926913e-06   \n",
      "2141  1207.906158  0.039362  8.881518e-07  0.0  8.912427e-06   \n",
      "2142  1255.999628  0.026791  1.257562e-06  0.0  8.228315e-06   \n",
      "2143  1105.590101  0.033648  6.979624e-07  0.0  9.372727e-06   \n",
      "2144  1106.471499  0.030462  4.639475e-07  0.0  1.186266e-05   \n",
      "\n",
      "                       ts  \n",
      "0     2007-09-07 09:56:29  \n",
      "1     2006-03-21 17:25:05  \n",
      "2     2006-03-21 17:25:05  \n",
      "3     2006-03-21 17:25:05  \n",
      "4     2006-03-21 21:44:52  \n",
      "...                   ...  \n",
      "2140  2018-11-28 09:03:01  \n",
      "2141  2018-12-21 08:15:11  \n",
      "2142  2018-12-05 07:26:39  \n",
      "2143  2018-12-28 11:07:22  \n",
      "2144  2019-01-07 16:12:32  \n",
      "\n",
      "[2145 rows x 22 columns]\n"
     ]
    }
   ],
   "source": [
    "print(motor_table)"
   ]
  },
  {
   "cell_type": "code",
   "execution_count": 20,
   "metadata": {},
   "outputs": [],
   "source": [
    "prop_table = pd.read_sql_query(\"SELECT * from Props\", conn)"
   ]
  },
  {
   "cell_type": "code",
   "execution_count": 21,
   "metadata": {},
   "outputs": [
    {
     "name": "stdout",
     "output_type": "stream",
     "text": [
      "     myid  tbs           Name    Dia  Pitch          a         b  AltThr  \\\n",
      "0       1    4          APC E   4.10   4.10   0.502289  2.046544     200   \n",
      "1       2    4  Grp. Miniprop   4.30   2.00   0.503854  2.000000      60   \n",
      "2       3    4          APC E   4.50   4.10   0.671236  2.073493     200   \n",
      "3       4    4    GrpCamSpeed   4.70   4.70   0.910000  2.000000      60   \n",
      "4       5    4          APC E   4.75   4.75   0.710704  2.087590     200   \n",
      "..    ...  ...            ...    ...    ...        ...       ...     ...   \n",
      "580   589    5  Brotmesser V5  12.00  25.00  19.585730  2.065957       0   \n",
      "581   590    5        AeroCam  12.00  13.00  23.855480  2.088905       0   \n",
      "582   591    5   RFM CFK Flug  14.50  14.00   0.000000  0.000000       0   \n",
      "583   592    5  RFM CFK Stand  14.50  14.00  32.307940  2.110557       0   \n",
      "584   593    5  Aeronaut CAM   11.00  12.00  17.975250  2.060781       0   \n",
      "\n",
      "     TmpThr        srcThr  ...  TmpPwr        srcPwr     n10N    n100W Folder  \\\n",
      "0      20.0       Dr Kiwi  ...    18.0  DC generated  41319.2  24023.3      0   \n",
      "1      22.0            cp  ...    22.0            cp  44987.0  31447.0      0   \n",
      "2      20.0       Dr Kiwi  ...    20.0  DC generated  34230.9  21177.8      0   \n",
      "3      22.0            cp  ...    22.0  DC generated  33474.9  19246.3      0   \n",
      "4      20.0       Dr Kiwi  ...    18.0  DC generated  32521.4  18407.5      0   \n",
      "..      ...           ...  ...     ...           ...      ...      ...    ...   \n",
      "580    15.0  DC generated  ...    15.0  DC generated   6774.4   2674.9      0   \n",
      "581    15.0  DC generated  ...    15.0  DC generated   6035.9   4052.9      1   \n",
      "582     7.0                ...     7.0                    0.0   3508.0      1   \n",
      "583    15.0  DC generated  ...    15.0  DC generated   5132.4   3407.2      1   \n",
      "584    15.0  DC generated  ...    15.0  DC generated   7096.4   4730.5      1   \n",
      "\n",
      "      Hub  MaxRPM  match  Rely                   ts  \n",
      "0     0.0   46341      0    15  2009-09-16 18:45:34  \n",
      "1     0.0       0      0     1  2007-01-16 18:08:41  \n",
      "2     0.0   42222      0    17  2009-05-01 10:40:54  \n",
      "3     0.0       0      0     8  2009-05-01 10:41:39  \n",
      "4     0.0   40000      0    25  2010-03-08 15:33:50  \n",
      "..    ...     ...    ...   ...                  ...  \n",
      "580   0.0       0      0     4  2016-10-22 15:03:44  \n",
      "581  47.0       0      1     4  2016-10-22 15:08:24  \n",
      "582  47.0       0      1     9  2018-06-04 08:16:28  \n",
      "583  47.0       0      1     5  2018-06-04 08:15:57  \n",
      "584  38.0       0      1     4  2018-06-04 08:16:41  \n",
      "\n",
      "[585 rows x 23 columns]\n"
     ]
    }
   ],
   "source": [
    "print(prop_table)"
   ]
  },
  {
   "cell_type": "code",
   "execution_count": 24,
   "metadata": {},
   "outputs": [],
   "source": [
    "conn.close()"
   ]
  },
  {
   "cell_type": "markdown",
   "metadata": {},
   "source": [
    "### now we have the complete database in pandas"
   ]
  },
  {
   "cell_type": "code",
   "execution_count": 29,
   "metadata": {},
   "outputs": [
    {
     "name": "stdout",
     "output_type": "stream",
     "text": [
      "myid\n",
      "tbs\n",
      "Name\n",
      "Dia\n",
      "Pitch\n",
      "a\n",
      "b\n",
      "AltThr\n",
      "TmpThr\n",
      "srcThr\n",
      "c\n",
      "d\n",
      "AltPwr\n",
      "TmpPwr\n",
      "srcPwr\n",
      "n10N\n",
      "n100W\n",
      "Folder\n",
      "Hub\n",
      "MaxRPM\n",
      "match\n",
      "Rely\n",
      "ts\n"
     ]
    }
   ],
   "source": [
    "for col in prop_table.columns:\n",
    "            print(col)"
   ]
  },
  {
   "cell_type": "code",
   "execution_count": 30,
   "metadata": {},
   "outputs": [
    {
     "data": {
      "text/plain": [
       "<bound method NDFrame.keys of      myid  tbs           Name    Dia  Pitch          a         b  AltThr  \\\n",
       "0       1    4          APC E   4.10   4.10   0.502289  2.046544     200   \n",
       "1       2    4  Grp. Miniprop   4.30   2.00   0.503854  2.000000      60   \n",
       "2       3    4          APC E   4.50   4.10   0.671236  2.073493     200   \n",
       "3       4    4    GrpCamSpeed   4.70   4.70   0.910000  2.000000      60   \n",
       "4       5    4          APC E   4.75   4.75   0.710704  2.087590     200   \n",
       "..    ...  ...            ...    ...    ...        ...       ...     ...   \n",
       "580   589    5  Brotmesser V5  12.00  25.00  19.585730  2.065957       0   \n",
       "581   590    5        AeroCam  12.00  13.00  23.855480  2.088905       0   \n",
       "582   591    5   RFM CFK Flug  14.50  14.00   0.000000  0.000000       0   \n",
       "583   592    5  RFM CFK Stand  14.50  14.00  32.307940  2.110557       0   \n",
       "584   593    5  Aeronaut CAM   11.00  12.00  17.975250  2.060781       0   \n",
       "\n",
       "     TmpThr        srcThr  ...  TmpPwr        srcPwr     n10N    n100W Folder  \\\n",
       "0      20.0       Dr Kiwi  ...    18.0  DC generated  41319.2  24023.3      0   \n",
       "1      22.0            cp  ...    22.0            cp  44987.0  31447.0      0   \n",
       "2      20.0       Dr Kiwi  ...    20.0  DC generated  34230.9  21177.8      0   \n",
       "3      22.0            cp  ...    22.0  DC generated  33474.9  19246.3      0   \n",
       "4      20.0       Dr Kiwi  ...    18.0  DC generated  32521.4  18407.5      0   \n",
       "..      ...           ...  ...     ...           ...      ...      ...    ...   \n",
       "580    15.0  DC generated  ...    15.0  DC generated   6774.4   2674.9      0   \n",
       "581    15.0  DC generated  ...    15.0  DC generated   6035.9   4052.9      1   \n",
       "582     7.0                ...     7.0                    0.0   3508.0      1   \n",
       "583    15.0  DC generated  ...    15.0  DC generated   5132.4   3407.2      1   \n",
       "584    15.0  DC generated  ...    15.0  DC generated   7096.4   4730.5      1   \n",
       "\n",
       "      Hub  MaxRPM  match  Rely                   ts  \n",
       "0     0.0   46341      0    15  2009-09-16 18:45:34  \n",
       "1     0.0       0      0     1  2007-01-16 18:08:41  \n",
       "2     0.0   42222      0    17  2009-05-01 10:40:54  \n",
       "3     0.0       0      0     8  2009-05-01 10:41:39  \n",
       "4     0.0   40000      0    25  2010-03-08 15:33:50  \n",
       "..    ...     ...    ...   ...                  ...  \n",
       "580   0.0       0      0     4  2016-10-22 15:03:44  \n",
       "581  47.0       0      1     4  2016-10-22 15:08:24  \n",
       "582  47.0       0      1     9  2018-06-04 08:16:28  \n",
       "583  47.0       0      1     5  2018-06-04 08:15:57  \n",
       "584  38.0       0      1     4  2018-06-04 08:16:41  \n",
       "\n",
       "[585 rows x 23 columns]>"
      ]
     },
     "execution_count": 30,
     "metadata": {},
     "output_type": "execute_result"
    }
   ],
   "source": [
    "prop_table.keys"
   ]
  },
  {
   "cell_type": "code",
   "execution_count": 33,
   "metadata": {},
   "outputs": [],
   "source": [
    "selection = prop_table[prop_table['Dia'] == 11.0]\n",
    "selection = selection[selection['Pitch'] < 5.0]"
   ]
  },
  {
   "cell_type": "code",
   "execution_count": 34,
   "metadata": {},
   "outputs": [
    {
     "name": "stdout",
     "output_type": "stream",
     "text": [
      "     myid  tbs          Name   Dia  Pitch         a         b  AltThr  TmpThr  \\\n",
      "87     89    4        APC SF  11.0    3.8  13.20801  2.245846     200    20.0   \n",
      "88     90    4  Graupner CAM  11.0    4.0  13.76739  2.012500     120    18.0   \n",
      "89     91    4        APC SF  11.0    4.7  16.11255  2.255838     200    20.0   \n",
      "90     92    4        GWS RS  11.0    4.7  19.14273  2.163582      57    14.0   \n",
      "470   479    4    iFlight CF  11.0    4.7  18.60433  2.116680     200    22.0   \n",
      "540   549    4        APC MR  11.0    4.5  15.57772  2.117447     100    17.0   \n",
      "\n",
      "           srcThr  ...  TmpPwr        srcPwr     n10N    n100W Folder   Hub  \\\n",
      "87        Dr Kiwi  ...    18.0      Hyperion  6926.30  6392.60      0   0.0   \n",
      "88       Hyperion  ...    18.0      Hyperion  8491.95  7685.65      1  42.0   \n",
      "89        Dr Kiwi  ...    15.0        Schenk  6288.00  6257.00      0   0.0   \n",
      "90        Dr Kiwi  ...    14.0       Persson  6280.20  5908.40      0   0.0   \n",
      "470  DC generated  ...    22.0  DC generated  6629.90  5841.70      0   0.0   \n",
      "540  DC generated  ...    17.0  DC generated  7204.90  6699.10      0   0.0   \n",
      "\n",
      "     MaxRPM  match  Rely                   ts  \n",
      "87     5909      0     7  2010-03-09 19:53:22  \n",
      "88        0      0     7  2006-03-21 17:17:59  \n",
      "89     5909      0    30  2010-03-09 19:54:00  \n",
      "90     5454      0    30  2010-03-09 19:57:15  \n",
      "470       0      0     6  2014-03-29 14:00:35  \n",
      "540       0      0     1  2015-11-13 18:20:34  \n",
      "\n",
      "[6 rows x 23 columns]\n"
     ]
    }
   ],
   "source": [
    "print(selection)"
   ]
  },
  {
   "cell_type": "code",
   "execution_count": 36,
   "metadata": {},
   "outputs": [],
   "source": [
    "my_prop = prop_table[prop_table['myid'] == 90]"
   ]
  },
  {
   "cell_type": "code",
   "execution_count": 37,
   "metadata": {},
   "outputs": [
    {
     "data": {
      "text/html": [
       "<div>\n",
       "<style scoped>\n",
       "    .dataframe tbody tr th:only-of-type {\n",
       "        vertical-align: middle;\n",
       "    }\n",
       "\n",
       "    .dataframe tbody tr th {\n",
       "        vertical-align: top;\n",
       "    }\n",
       "\n",
       "    .dataframe thead th {\n",
       "        text-align: right;\n",
       "    }\n",
       "</style>\n",
       "<table border=\"1\" class=\"dataframe\">\n",
       "  <thead>\n",
       "    <tr style=\"text-align: right;\">\n",
       "      <th></th>\n",
       "      <th>myid</th>\n",
       "      <th>tbs</th>\n",
       "      <th>Name</th>\n",
       "      <th>Dia</th>\n",
       "      <th>Pitch</th>\n",
       "      <th>a</th>\n",
       "      <th>b</th>\n",
       "      <th>AltThr</th>\n",
       "      <th>TmpThr</th>\n",
       "      <th>srcThr</th>\n",
       "      <th>...</th>\n",
       "      <th>TmpPwr</th>\n",
       "      <th>srcPwr</th>\n",
       "      <th>n10N</th>\n",
       "      <th>n100W</th>\n",
       "      <th>Folder</th>\n",
       "      <th>Hub</th>\n",
       "      <th>MaxRPM</th>\n",
       "      <th>match</th>\n",
       "      <th>Rely</th>\n",
       "      <th>ts</th>\n",
       "    </tr>\n",
       "  </thead>\n",
       "  <tbody>\n",
       "    <tr>\n",
       "      <th>88</th>\n",
       "      <td>90</td>\n",
       "      <td>4</td>\n",
       "      <td>Graupner CAM</td>\n",
       "      <td>11.0</td>\n",
       "      <td>4.0</td>\n",
       "      <td>13.76739</td>\n",
       "      <td>2.0125</td>\n",
       "      <td>120</td>\n",
       "      <td>18.0</td>\n",
       "      <td>Hyperion</td>\n",
       "      <td>...</td>\n",
       "      <td>18.0</td>\n",
       "      <td>Hyperion</td>\n",
       "      <td>8491.95</td>\n",
       "      <td>7685.65</td>\n",
       "      <td>1</td>\n",
       "      <td>42.0</td>\n",
       "      <td>0</td>\n",
       "      <td>0</td>\n",
       "      <td>7</td>\n",
       "      <td>2006-03-21 17:17:59</td>\n",
       "    </tr>\n",
       "  </tbody>\n",
       "</table>\n",
       "<p>1 rows × 23 columns</p>\n",
       "</div>"
      ],
      "text/plain": [
       "    myid  tbs          Name   Dia  Pitch         a       b  AltThr  TmpThr  \\\n",
       "88    90    4  Graupner CAM  11.0    4.0  13.76739  2.0125     120    18.0   \n",
       "\n",
       "      srcThr  ...  TmpPwr    srcPwr     n10N    n100W Folder   Hub  MaxRPM  \\\n",
       "88  Hyperion  ...    18.0  Hyperion  8491.95  7685.65      1  42.0       0   \n",
       "\n",
       "    match  Rely                   ts  \n",
       "88      0     7  2006-03-21 17:17:59  \n",
       "\n",
       "[1 rows x 23 columns]"
      ]
     },
     "execution_count": 37,
     "metadata": {},
     "output_type": "execute_result"
    }
   ],
   "source": [
    "my_prop"
   ]
  },
  {
   "cell_type": "code",
   "execution_count": 127,
   "metadata": {},
   "outputs": [
    {
     "data": {
      "text/html": [
       "<div>\n",
       "<style scoped>\n",
       "    .dataframe tbody tr th:only-of-type {\n",
       "        vertical-align: middle;\n",
       "    }\n",
       "\n",
       "    .dataframe tbody tr th {\n",
       "        vertical-align: top;\n",
       "    }\n",
       "\n",
       "    .dataframe thead th {\n",
       "        text-align: right;\n",
       "    }\n",
       "</style>\n",
       "<table border=\"1\" class=\"dataframe\">\n",
       "  <thead>\n",
       "    <tr style=\"text-align: right;\">\n",
       "      <th></th>\n",
       "      <th>myid</th>\n",
       "      <th>tbs</th>\n",
       "      <th>Name</th>\n",
       "      <th>Dia</th>\n",
       "      <th>Pitch</th>\n",
       "      <th>a</th>\n",
       "      <th>b</th>\n",
       "      <th>AltThr</th>\n",
       "      <th>TmpThr</th>\n",
       "      <th>srcThr</th>\n",
       "      <th>...</th>\n",
       "      <th>TmpPwr</th>\n",
       "      <th>srcPwr</th>\n",
       "      <th>n10N</th>\n",
       "      <th>n100W</th>\n",
       "      <th>Folder</th>\n",
       "      <th>Hub</th>\n",
       "      <th>MaxRPM</th>\n",
       "      <th>match</th>\n",
       "      <th>Rely</th>\n",
       "      <th>ts</th>\n",
       "    </tr>\n",
       "  </thead>\n",
       "  <tbody>\n",
       "    <tr>\n",
       "      <th>54</th>\n",
       "      <td>56</td>\n",
       "      <td>4</td>\n",
       "      <td>GWS RS</td>\n",
       "      <td>9.0</td>\n",
       "      <td>7.0</td>\n",
       "      <td>11.832290</td>\n",
       "      <td>2.117133</td>\n",
       "      <td>200</td>\n",
       "      <td>20.0</td>\n",
       "      <td>Dr Kiwi</td>\n",
       "      <td>...</td>\n",
       "      <td>15.0</td>\n",
       "      <td>Schenk</td>\n",
       "      <td>8206.60</td>\n",
       "      <td>7075.90</td>\n",
       "      <td>0</td>\n",
       "      <td>0.0</td>\n",
       "      <td>6666</td>\n",
       "      <td>0</td>\n",
       "      <td>30</td>\n",
       "      <td>2010-03-08 16:01:59</td>\n",
       "    </tr>\n",
       "    <tr>\n",
       "      <th>55</th>\n",
       "      <td>57</td>\n",
       "      <td>4</td>\n",
       "      <td>GWS RS 3-Blade</td>\n",
       "      <td>9.0</td>\n",
       "      <td>7.0</td>\n",
       "      <td>13.824870</td>\n",
       "      <td>2.024323</td>\n",
       "      <td>200</td>\n",
       "      <td>20.0</td>\n",
       "      <td>Dr Kiwi</td>\n",
       "      <td>...</td>\n",
       "      <td>7.0</td>\n",
       "      <td>Persson 23.11.05</td>\n",
       "      <td>8369.30</td>\n",
       "      <td>6566.00</td>\n",
       "      <td>0</td>\n",
       "      <td>0.0</td>\n",
       "      <td>6666</td>\n",
       "      <td>0</td>\n",
       "      <td>30</td>\n",
       "      <td>2010-03-08 16:02:22</td>\n",
       "    </tr>\n",
       "    <tr>\n",
       "      <th>77</th>\n",
       "      <td>79</td>\n",
       "      <td>4</td>\n",
       "      <td>AeroCAM</td>\n",
       "      <td>10.0</td>\n",
       "      <td>8.0</td>\n",
       "      <td>9.579566</td>\n",
       "      <td>2.206408</td>\n",
       "      <td>0</td>\n",
       "      <td>15.0</td>\n",
       "      <td>DC generated</td>\n",
       "      <td>...</td>\n",
       "      <td>15.0</td>\n",
       "      <td>Aeronaut Diagram</td>\n",
       "      <td>8293.70</td>\n",
       "      <td>6601.40</td>\n",
       "      <td>1</td>\n",
       "      <td>42.0</td>\n",
       "      <td>16000</td>\n",
       "      <td>0</td>\n",
       "      <td>8</td>\n",
       "      <td>2010-03-09 19:52:30</td>\n",
       "    </tr>\n",
       "    <tr>\n",
       "      <th>88</th>\n",
       "      <td>90</td>\n",
       "      <td>4</td>\n",
       "      <td>Graupner CAM</td>\n",
       "      <td>11.0</td>\n",
       "      <td>4.0</td>\n",
       "      <td>13.767390</td>\n",
       "      <td>2.012500</td>\n",
       "      <td>120</td>\n",
       "      <td>18.0</td>\n",
       "      <td>Hyperion</td>\n",
       "      <td>...</td>\n",
       "      <td>18.0</td>\n",
       "      <td>Hyperion</td>\n",
       "      <td>8491.95</td>\n",
       "      <td>7685.65</td>\n",
       "      <td>1</td>\n",
       "      <td>42.0</td>\n",
       "      <td>0</td>\n",
       "      <td>0</td>\n",
       "      <td>7</td>\n",
       "      <td>2006-03-21 17:17:59</td>\n",
       "    </tr>\n",
       "    <tr>\n",
       "      <th>106</th>\n",
       "      <td>108</td>\n",
       "      <td>4</td>\n",
       "      <td>Graupner CAM</td>\n",
       "      <td>12.0</td>\n",
       "      <td>4.0</td>\n",
       "      <td>10.700950</td>\n",
       "      <td>2.169500</td>\n",
       "      <td>120</td>\n",
       "      <td>18.0</td>\n",
       "      <td>Hyperion</td>\n",
       "      <td>...</td>\n",
       "      <td>18.0</td>\n",
       "      <td>DC generated</td>\n",
       "      <td>8169.90</td>\n",
       "      <td>5703.60</td>\n",
       "      <td>1</td>\n",
       "      <td>42.0</td>\n",
       "      <td>0</td>\n",
       "      <td>0</td>\n",
       "      <td>1</td>\n",
       "      <td>2009-10-24 13:10:36</td>\n",
       "    </tr>\n",
       "    <tr>\n",
       "      <th>231</th>\n",
       "      <td>233</td>\n",
       "      <td>4</td>\n",
       "      <td>APC SF</td>\n",
       "      <td>9.0</td>\n",
       "      <td>6.0</td>\n",
       "      <td>10.021100</td>\n",
       "      <td>2.221310</td>\n",
       "      <td>200</td>\n",
       "      <td>20.0</td>\n",
       "      <td>Dr Kiwi</td>\n",
       "      <td>...</td>\n",
       "      <td>5.0</td>\n",
       "      <td>DC generated</td>\n",
       "      <td>8012.60</td>\n",
       "      <td>6539.60</td>\n",
       "      <td>0</td>\n",
       "      <td>0.0</td>\n",
       "      <td>7222</td>\n",
       "      <td>0</td>\n",
       "      <td>3</td>\n",
       "      <td>2010-03-08 16:00:16</td>\n",
       "    </tr>\n",
       "    <tr>\n",
       "      <th>305</th>\n",
       "      <td>311</td>\n",
       "      <td>4</td>\n",
       "      <td>Dymond E</td>\n",
       "      <td>10.0</td>\n",
       "      <td>6.0</td>\n",
       "      <td>12.905850</td>\n",
       "      <td>2.073536</td>\n",
       "      <td>0</td>\n",
       "      <td>15.0</td>\n",
       "      <td>DC generated</td>\n",
       "      <td>...</td>\n",
       "      <td>15.0</td>\n",
       "      <td>DC generated</td>\n",
       "      <td>8226.10</td>\n",
       "      <td>6659.60</td>\n",
       "      <td>0</td>\n",
       "      <td>0.0</td>\n",
       "      <td>0</td>\n",
       "      <td>0</td>\n",
       "      <td>3</td>\n",
       "      <td>2009-08-19 21:43:23</td>\n",
       "    </tr>\n",
       "    <tr>\n",
       "      <th>336</th>\n",
       "      <td>345</td>\n",
       "      <td>4</td>\n",
       "      <td>Graupner CAM</td>\n",
       "      <td>10.0</td>\n",
       "      <td>6.0</td>\n",
       "      <td>13.421750</td>\n",
       "      <td>2.032977</td>\n",
       "      <td>0</td>\n",
       "      <td>15.0</td>\n",
       "      <td>DC generated</td>\n",
       "      <td>...</td>\n",
       "      <td>15.0</td>\n",
       "      <td></td>\n",
       "      <td>8415.50</td>\n",
       "      <td>7610.00</td>\n",
       "      <td>0</td>\n",
       "      <td>0.0</td>\n",
       "      <td>13500</td>\n",
       "      <td>0</td>\n",
       "      <td>1</td>\n",
       "      <td>2010-03-09 19:47:10</td>\n",
       "    </tr>\n",
       "    <tr>\n",
       "      <th>338</th>\n",
       "      <td>347</td>\n",
       "      <td>4</td>\n",
       "      <td>Graupner CAM</td>\n",
       "      <td>10.0</td>\n",
       "      <td>8.0</td>\n",
       "      <td>17.469150</td>\n",
       "      <td>1.947381</td>\n",
       "      <td>0</td>\n",
       "      <td>15.0</td>\n",
       "      <td>DC generated</td>\n",
       "      <td>...</td>\n",
       "      <td>15.0</td>\n",
       "      <td></td>\n",
       "      <td>8071.70</td>\n",
       "      <td>6740.00</td>\n",
       "      <td>0</td>\n",
       "      <td>0.0</td>\n",
       "      <td>13500</td>\n",
       "      <td>0</td>\n",
       "      <td>1</td>\n",
       "      <td>2010-03-09 19:52:55</td>\n",
       "    </tr>\n",
       "    <tr>\n",
       "      <th>440</th>\n",
       "      <td>449</td>\n",
       "      <td>4</td>\n",
       "      <td>Master Airscrew 3BL</td>\n",
       "      <td>10.0</td>\n",
       "      <td>7.0</td>\n",
       "      <td>16.058900</td>\n",
       "      <td>1.942275</td>\n",
       "      <td>0</td>\n",
       "      <td>15.0</td>\n",
       "      <td>DC generated</td>\n",
       "      <td>...</td>\n",
       "      <td>15.0</td>\n",
       "      <td>DC generated</td>\n",
       "      <td>8475.60</td>\n",
       "      <td>6630.60</td>\n",
       "      <td>0</td>\n",
       "      <td>0.0</td>\n",
       "      <td>0</td>\n",
       "      <td>0</td>\n",
       "      <td>3</td>\n",
       "      <td>2013-10-30 18:08:24</td>\n",
       "    </tr>\n",
       "    <tr>\n",
       "      <th>467</th>\n",
       "      <td>476</td>\n",
       "      <td>4</td>\n",
       "      <td>iFlight CF</td>\n",
       "      <td>10.0</td>\n",
       "      <td>4.5</td>\n",
       "      <td>15.242600</td>\n",
       "      <td>1.995317</td>\n",
       "      <td>200</td>\n",
       "      <td>22.0</td>\n",
       "      <td>DC generated</td>\n",
       "      <td>...</td>\n",
       "      <td>22.0</td>\n",
       "      <td>DC generated</td>\n",
       "      <td>8219.60</td>\n",
       "      <td>6652.80</td>\n",
       "      <td>0</td>\n",
       "      <td>0.0</td>\n",
       "      <td>0</td>\n",
       "      <td>0</td>\n",
       "      <td>5</td>\n",
       "      <td>2014-03-29 13:49:03</td>\n",
       "    </tr>\n",
       "  </tbody>\n",
       "</table>\n",
       "<p>11 rows × 23 columns</p>\n",
       "</div>"
      ],
      "text/plain": [
       "     myid  tbs                 Name   Dia  Pitch          a         b  AltThr  \\\n",
       "54     56    4               GWS RS   9.0    7.0  11.832290  2.117133     200   \n",
       "55     57    4       GWS RS 3-Blade   9.0    7.0  13.824870  2.024323     200   \n",
       "77     79    4              AeroCAM  10.0    8.0   9.579566  2.206408       0   \n",
       "88     90    4         Graupner CAM  11.0    4.0  13.767390  2.012500     120   \n",
       "106   108    4         Graupner CAM  12.0    4.0  10.700950  2.169500     120   \n",
       "231   233    4               APC SF   9.0    6.0  10.021100  2.221310     200   \n",
       "305   311    4             Dymond E  10.0    6.0  12.905850  2.073536       0   \n",
       "336   345    4         Graupner CAM  10.0    6.0  13.421750  2.032977       0   \n",
       "338   347    4         Graupner CAM  10.0    8.0  17.469150  1.947381       0   \n",
       "440   449    4  Master Airscrew 3BL  10.0    7.0  16.058900  1.942275       0   \n",
       "467   476    4           iFlight CF  10.0    4.5  15.242600  1.995317     200   \n",
       "\n",
       "     TmpThr        srcThr  ...  TmpPwr            srcPwr     n10N    n100W  \\\n",
       "54     20.0       Dr Kiwi  ...    15.0            Schenk  8206.60  7075.90   \n",
       "55     20.0       Dr Kiwi  ...     7.0  Persson 23.11.05  8369.30  6566.00   \n",
       "77     15.0  DC generated  ...    15.0  Aeronaut Diagram  8293.70  6601.40   \n",
       "88     18.0      Hyperion  ...    18.0          Hyperion  8491.95  7685.65   \n",
       "106    18.0      Hyperion  ...    18.0      DC generated  8169.90  5703.60   \n",
       "231    20.0       Dr Kiwi  ...     5.0      DC generated  8012.60  6539.60   \n",
       "305    15.0  DC generated  ...    15.0      DC generated  8226.10  6659.60   \n",
       "336    15.0  DC generated  ...    15.0                    8415.50  7610.00   \n",
       "338    15.0  DC generated  ...    15.0                    8071.70  6740.00   \n",
       "440    15.0  DC generated  ...    15.0      DC generated  8475.60  6630.60   \n",
       "467    22.0  DC generated  ...    22.0      DC generated  8219.60  6652.80   \n",
       "\n",
       "    Folder   Hub  MaxRPM  match  Rely                   ts  \n",
       "54       0   0.0    6666      0    30  2010-03-08 16:01:59  \n",
       "55       0   0.0    6666      0    30  2010-03-08 16:02:22  \n",
       "77       1  42.0   16000      0     8  2010-03-09 19:52:30  \n",
       "88       1  42.0       0      0     7  2006-03-21 17:17:59  \n",
       "106      1  42.0       0      0     1  2009-10-24 13:10:36  \n",
       "231      0   0.0    7222      0     3  2010-03-08 16:00:16  \n",
       "305      0   0.0       0      0     3  2009-08-19 21:43:23  \n",
       "336      0   0.0   13500      0     1  2010-03-09 19:47:10  \n",
       "338      0   0.0   13500      0     1  2010-03-09 19:52:55  \n",
       "440      0   0.0       0      0     3  2013-10-30 18:08:24  \n",
       "467      0   0.0       0      0     5  2014-03-29 13:49:03  \n",
       "\n",
       "[11 rows x 23 columns]"
      ]
     },
     "execution_count": 127,
     "metadata": {},
     "output_type": "execute_result"
    }
   ],
   "source": [
    "prop_table[(prop_table['n10N'] > 8000.0) & (prop_table['n10N'] < 8500.0)]"
   ]
  },
  {
   "cell_type": "code",
   "execution_count": 108,
   "metadata": {},
   "outputs": [],
   "source": [
    "class PropellerEmpirical():\n",
    "    \n",
    "    def __init__(self, table, index):\n",
    "        \"\"\"\n",
    "        Select one prop by index from the database table\n",
    "        \"\"\"\n",
    "        my_prop = table[table['myid'] == index]\n",
    "        self.Name = my_prop['Name'].item()\n",
    "        print(self.Name)\n",
    "        self.D = float(my_prop['Dia'])\n",
    "        self.H = float(my_prop['Pitch'])\n",
    "        # self.a = float(my_prop['a'])\n",
    "        self.b = float(my_prop['b'])\n",
    "        # self.c = float(my_prop['c'])\n",
    "        self.d = float(my_prop['d'])\n",
    "        self.n10N = float(my_prop['n10N'])\n",
    "        self.n100W = float(my_prop['n100W'])\n",
    "        # it is not clear what values of a and c are in the database\n",
    "        # we compute it from n10N and n100W instead\n",
    "        self.a = 10.0 / pow(self.n10N,self.b)\n",
    "        self.c = 100.0 / pow(self.n100W,self.d)\n",
    "\n",
    "    \n",
    "    def ShaftPower(self, rpm):\n",
    "        \"\"\"\n",
    "        Compute the power [W] needed to spin the propeller with the requested\n",
    "        revolutions per minute.\n",
    "        \"\"\"\n",
    "        P = self.c * pow(rpm,self.d)\n",
    "        return(P)\n",
    "\n",
    "    def Thrust(self, rpm):\n",
    "        \"\"\"\n",
    "        Compute the Thrust [N] generated by the propeller spinning with the requested\n",
    "        revolutions per minute.\n",
    "        \"\"\"\n",
    "        T = self.a * pow(rpm,self.b)\n",
    "        return(T)\n"
   ]
  },
  {
   "cell_type": "code",
   "execution_count": 109,
   "metadata": {},
   "outputs": [
    {
     "name": "stdout",
     "output_type": "stream",
     "text": [
      "Graupner CAM\n"
     ]
    }
   ],
   "source": [
    "prop = PropellerEmpirical(prop_table, 90)"
   ]
  },
  {
   "cell_type": "code",
   "execution_count": 110,
   "metadata": {},
   "outputs": [
    {
     "data": {
      "text/plain": [
       "7685.65"
      ]
     },
     "execution_count": 110,
     "metadata": {},
     "output_type": "execute_result"
    }
   ],
   "source": [
    "prop.n100W"
   ]
  },
  {
   "cell_type": "code",
   "execution_count": 111,
   "metadata": {},
   "outputs": [
    {
     "data": {
      "text/plain": [
       "1.587604352000625e-10"
      ]
     },
     "execution_count": 111,
     "metadata": {},
     "output_type": "execute_result"
    }
   ],
   "source": [
    "prop.c"
   ]
  },
  {
   "cell_type": "code",
   "execution_count": 112,
   "metadata": {},
   "outputs": [
    {
     "data": {
      "text/plain": [
       "3.0366"
      ]
     },
     "execution_count": 112,
     "metadata": {},
     "output_type": "execute_result"
    }
   ],
   "source": [
    "prop.d"
   ]
  },
  {
   "cell_type": "code",
   "execution_count": 113,
   "metadata": {},
   "outputs": [
    {
     "data": {
      "text/plain": [
       "100.0"
      ]
     },
     "execution_count": 113,
     "metadata": {},
     "output_type": "execute_result"
    }
   ],
   "source": [
    "prop.ShaftPower(7685.65)"
   ]
  },
  {
   "cell_type": "code",
   "execution_count": 114,
   "metadata": {},
   "outputs": [
    {
     "data": {
      "text/plain": [
       "8491.95"
      ]
     },
     "execution_count": 114,
     "metadata": {},
     "output_type": "execute_result"
    }
   ],
   "source": [
    "prop.n10N"
   ]
  },
  {
   "cell_type": "code",
   "execution_count": 115,
   "metadata": {},
   "outputs": [
    {
     "data": {
      "text/plain": [
       "1.2384330980321425e-07"
      ]
     },
     "execution_count": 115,
     "metadata": {},
     "output_type": "execute_result"
    }
   ],
   "source": [
    "prop.a"
   ]
  },
  {
   "cell_type": "code",
   "execution_count": 116,
   "metadata": {},
   "outputs": [
    {
     "data": {
      "text/plain": [
       "2.0125"
      ]
     },
     "execution_count": 116,
     "metadata": {},
     "output_type": "execute_result"
    }
   ],
   "source": [
    "prop.b"
   ]
  },
  {
   "cell_type": "code",
   "execution_count": 118,
   "metadata": {},
   "outputs": [
    {
     "data": {
      "text/plain": [
       "10.019086781904813"
      ]
     },
     "execution_count": 118,
     "metadata": {},
     "output_type": "execute_result"
    }
   ],
   "source": [
    "prop.Thrust(8500)"
   ]
  },
  {
   "cell_type": "code",
   "execution_count": 128,
   "metadata": {},
   "outputs": [
    {
     "data": {
      "image/png": "[encoded data removed]",
      "text/plain": [
       "<Figure size 432x288 with 1 Axes>"
      ]
     },
     "metadata": {
      "needs_background": "light"
     },
     "output_type": "display_data"
    }
   ],
   "source": [
    "n = np.linspace(0,prop.n10N,100)\n",
    "T = prop.Thrust(n)\n",
    "plt.plot(n,T)\n",
    "plt.grid()\n",
    "plt.show()"
   ]
  },
  {
   "cell_type": "code",
   "execution_count": null,
   "metadata": {},
   "outputs": [],
   "source": []
  }
 ],
 "metadata": {
  "kernelspec": {
   "display_name": "Python 3",
   "language": "python",
   "name": "python3"
  },
  "language_info": {
   "codemirror_mode": {
    "name": "ipython",
    "version": 3
   },
   "file_extension": ".py",
   "mimetype": "text/x-python",
   "name": "python",
   "nbconvert_exporter": "python",
   "pygments_lexer": "ipython3",
   "version": "3.7.3"
  }
 },
 "nbformat": 4,
 "nbformat_minor": 2
}
